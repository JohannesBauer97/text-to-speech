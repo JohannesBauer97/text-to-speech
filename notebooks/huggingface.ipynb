{
 "cells": [
  {
   "cell_type": "markdown",
   "source": [
    "# Text 2 Speech using Huggingface\n"
   ],
   "metadata": {
    "collapsed": false
   }
  },
  {
   "cell_type": "markdown",
   "source": [
    "## Install dependencies\n"
   ],
   "metadata": {
    "collapsed": false
   }
  },
  {
   "cell_type": "code",
   "execution_count": 3,
   "outputs": [
    {
     "name": "stdout",
     "output_type": "stream",
     "text": [
      "Requirement already satisfied: transformers in /Users/joba/Documents/GitHub/text-to-speech/venv/lib/python3.10/site-packages (4.29.2)\r\n",
      "Requirement already satisfied: sentencepiece in /Users/joba/Documents/GitHub/text-to-speech/venv/lib/python3.10/site-packages (0.1.99)\r\n",
      "Requirement already satisfied: datasets in /Users/joba/Documents/GitHub/text-to-speech/venv/lib/python3.10/site-packages (2.12.0)\r\n",
      "Collecting soundfile\r\n",
      "  Downloading soundfile-0.12.1-py2.py3-none-macosx_11_0_arm64.whl (1.1 MB)\r\n",
      "\u001B[2K     \u001B[90m━━━━━━━━━━━━━━━━━━━━━━━━━━━━━━━━━━━━━━━━\u001B[0m \u001B[32m1.1/1.1 MB\u001B[0m \u001B[31m9.2 MB/s\u001B[0m eta \u001B[36m0:00:00\u001B[0m:00:01\u001B[0m0:01\u001B[0m\r\n",
      "\u001B[?25hRequirement already satisfied: tqdm>=4.27 in /Users/joba/Documents/GitHub/text-to-speech/venv/lib/python3.10/site-packages (from transformers) (4.65.0)\r\n",
      "Requirement already satisfied: filelock in /Users/joba/Documents/GitHub/text-to-speech/venv/lib/python3.10/site-packages (from transformers) (3.12.0)\r\n",
      "Requirement already satisfied: pyyaml>=5.1 in /Users/joba/Documents/GitHub/text-to-speech/venv/lib/python3.10/site-packages (from transformers) (6.0)\r\n",
      "Requirement already satisfied: regex!=2019.12.17 in /Users/joba/Documents/GitHub/text-to-speech/venv/lib/python3.10/site-packages (from transformers) (2023.5.5)\r\n",
      "Requirement already satisfied: requests in /Users/joba/Documents/GitHub/text-to-speech/venv/lib/python3.10/site-packages (from transformers) (2.30.0)\r\n",
      "Requirement already satisfied: tokenizers!=0.11.3,<0.14,>=0.11.1 in /Users/joba/Documents/GitHub/text-to-speech/venv/lib/python3.10/site-packages (from transformers) (0.13.3)\r\n",
      "Requirement already satisfied: huggingface-hub<1.0,>=0.14.1 in /Users/joba/Documents/GitHub/text-to-speech/venv/lib/python3.10/site-packages (from transformers) (0.14.1)\r\n",
      "Requirement already satisfied: numpy>=1.17 in /Users/joba/Documents/GitHub/text-to-speech/venv/lib/python3.10/site-packages (from transformers) (1.24.3)\r\n",
      "Requirement already satisfied: packaging>=20.0 in /Users/joba/Documents/GitHub/text-to-speech/venv/lib/python3.10/site-packages (from transformers) (23.1)\r\n",
      "Requirement already satisfied: pyarrow>=8.0.0 in /Users/joba/Documents/GitHub/text-to-speech/venv/lib/python3.10/site-packages (from datasets) (12.0.0)\r\n",
      "Requirement already satisfied: multiprocess in /Users/joba/Documents/GitHub/text-to-speech/venv/lib/python3.10/site-packages (from datasets) (0.70.14)\r\n",
      "Requirement already satisfied: dill<0.3.7,>=0.3.0 in /Users/joba/Documents/GitHub/text-to-speech/venv/lib/python3.10/site-packages (from datasets) (0.3.6)\r\n",
      "Requirement already satisfied: fsspec[http]>=2021.11.1 in /Users/joba/Documents/GitHub/text-to-speech/venv/lib/python3.10/site-packages (from datasets) (2023.5.0)\r\n",
      "Requirement already satisfied: xxhash in /Users/joba/Documents/GitHub/text-to-speech/venv/lib/python3.10/site-packages (from datasets) (3.2.0)\r\n",
      "Requirement already satisfied: responses<0.19 in /Users/joba/Documents/GitHub/text-to-speech/venv/lib/python3.10/site-packages (from datasets) (0.18.0)\r\n",
      "Requirement already satisfied: pandas in /Users/joba/Documents/GitHub/text-to-speech/venv/lib/python3.10/site-packages (from datasets) (2.0.1)\r\n",
      "Requirement already satisfied: aiohttp in /Users/joba/Documents/GitHub/text-to-speech/venv/lib/python3.10/site-packages (from datasets) (3.8.4)\r\n",
      "Requirement already satisfied: cffi>=1.0 in /Users/joba/Documents/GitHub/text-to-speech/venv/lib/python3.10/site-packages (from soundfile) (1.15.1)\r\n",
      "Requirement already satisfied: pycparser in /Users/joba/Documents/GitHub/text-to-speech/venv/lib/python3.10/site-packages (from cffi>=1.0->soundfile) (2.21)\r\n",
      "Requirement already satisfied: attrs>=17.3.0 in /Users/joba/Documents/GitHub/text-to-speech/venv/lib/python3.10/site-packages (from aiohttp->datasets) (23.1.0)\r\n",
      "Requirement already satisfied: aiosignal>=1.1.2 in /Users/joba/Documents/GitHub/text-to-speech/venv/lib/python3.10/site-packages (from aiohttp->datasets) (1.3.1)\r\n",
      "Requirement already satisfied: async-timeout<5.0,>=4.0.0a3 in /Users/joba/Documents/GitHub/text-to-speech/venv/lib/python3.10/site-packages (from aiohttp->datasets) (4.0.2)\r\n",
      "Requirement already satisfied: charset-normalizer<4.0,>=2.0 in /Users/joba/Documents/GitHub/text-to-speech/venv/lib/python3.10/site-packages (from aiohttp->datasets) (3.1.0)\r\n",
      "Requirement already satisfied: frozenlist>=1.1.1 in /Users/joba/Documents/GitHub/text-to-speech/venv/lib/python3.10/site-packages (from aiohttp->datasets) (1.3.3)\r\n",
      "Requirement already satisfied: yarl<2.0,>=1.0 in /Users/joba/Documents/GitHub/text-to-speech/venv/lib/python3.10/site-packages (from aiohttp->datasets) (1.9.2)\r\n",
      "Requirement already satisfied: multidict<7.0,>=4.5 in /Users/joba/Documents/GitHub/text-to-speech/venv/lib/python3.10/site-packages (from aiohttp->datasets) (6.0.4)\r\n",
      "Requirement already satisfied: typing-extensions>=3.7.4.3 in /Users/joba/Documents/GitHub/text-to-speech/venv/lib/python3.10/site-packages (from huggingface-hub<1.0,>=0.14.1->transformers) (4.5.0)\r\n",
      "Requirement already satisfied: idna<4,>=2.5 in /Users/joba/Documents/GitHub/text-to-speech/venv/lib/python3.10/site-packages (from requests->transformers) (3.4)\r\n",
      "Requirement already satisfied: urllib3<3,>=1.21.1 in /Users/joba/Documents/GitHub/text-to-speech/venv/lib/python3.10/site-packages (from requests->transformers) (2.0.2)\r\n",
      "Requirement already satisfied: certifi>=2017.4.17 in /Users/joba/Documents/GitHub/text-to-speech/venv/lib/python3.10/site-packages (from requests->transformers) (2023.5.7)\r\n",
      "Requirement already satisfied: tzdata>=2022.1 in /Users/joba/Documents/GitHub/text-to-speech/venv/lib/python3.10/site-packages (from pandas->datasets) (2023.3)\r\n",
      "Requirement already satisfied: pytz>=2020.1 in /Users/joba/Documents/GitHub/text-to-speech/venv/lib/python3.10/site-packages (from pandas->datasets) (2023.3)\r\n",
      "Requirement already satisfied: python-dateutil>=2.8.2 in /Users/joba/Documents/GitHub/text-to-speech/venv/lib/python3.10/site-packages (from pandas->datasets) (2.8.2)\r\n",
      "Requirement already satisfied: six>=1.5 in /Users/joba/Documents/GitHub/text-to-speech/venv/lib/python3.10/site-packages (from python-dateutil>=2.8.2->pandas->datasets) (1.16.0)\r\n",
      "Installing collected packages: soundfile\r\n",
      "Successfully installed soundfile-0.12.1\r\n",
      "\r\n",
      "\u001B[1m[\u001B[0m\u001B[34;49mnotice\u001B[0m\u001B[1;39;49m]\u001B[0m\u001B[39;49m A new release of pip available: \u001B[0m\u001B[31;49m22.3.1\u001B[0m\u001B[39;49m -> \u001B[0m\u001B[32;49m23.1.2\u001B[0m\r\n",
      "\u001B[1m[\u001B[0m\u001B[34;49mnotice\u001B[0m\u001B[1;39;49m]\u001B[0m\u001B[39;49m To update, run: \u001B[0m\u001B[32;49mpip install --upgrade pip\u001B[0m\r\n"
     ]
    }
   ],
   "source": [
    "!pip install transformers sentencepiece datasets soundfile\n"
   ],
   "metadata": {
    "collapsed": false,
    "ExecuteTime": {
     "end_time": "2023-05-19T12:38:41.761919Z",
     "start_time": "2023-05-19T12:38:40.174381Z"
    }
   }
  },
  {
   "cell_type": "markdown",
   "source": [
    "## Example\n"
   ],
   "metadata": {
    "collapsed": false
   }
  },
  {
   "cell_type": "code",
   "execution_count": 4,
   "outputs": [
    {
     "data": {
      "text/plain": "Downloading (…)rocessor_config.json:   0%|          | 0.00/433 [00:00<?, ?B/s]",
      "application/vnd.jupyter.widget-view+json": {
       "version_major": 2,
       "version_minor": 0,
       "model_id": "5aac96870d8c420ead2620868a5ed18c"
      }
     },
     "metadata": {},
     "output_type": "display_data"
    },
    {
     "data": {
      "text/plain": "Downloading spm_char.model:   0%|          | 0.00/238k [00:00<?, ?B/s]",
      "application/vnd.jupyter.widget-view+json": {
       "version_major": 2,
       "version_minor": 0,
       "model_id": "38d53d52365040bfba94d92b6d014c7b"
      }
     },
     "metadata": {},
     "output_type": "display_data"
    },
    {
     "data": {
      "text/plain": "Downloading (…)in/added_tokens.json:   0%|          | 0.00/40.0 [00:00<?, ?B/s]",
      "application/vnd.jupyter.widget-view+json": {
       "version_major": 2,
       "version_minor": 0,
       "model_id": "58832cd41de4484c806241dcc7efb0e8"
      }
     },
     "metadata": {},
     "output_type": "display_data"
    },
    {
     "data": {
      "text/plain": "Downloading (…)cial_tokens_map.json:   0%|          | 0.00/234 [00:00<?, ?B/s]",
      "application/vnd.jupyter.widget-view+json": {
       "version_major": 2,
       "version_minor": 0,
       "model_id": "4503d87ca48c4ce6a60a8a6db70c0627"
      }
     },
     "metadata": {},
     "output_type": "display_data"
    },
    {
     "data": {
      "text/plain": "Downloading (…)okenizer_config.json:   0%|          | 0.00/232 [00:00<?, ?B/s]",
      "application/vnd.jupyter.widget-view+json": {
       "version_major": 2,
       "version_minor": 0,
       "model_id": "328c0408effa46e08159057783be86bc"
      }
     },
     "metadata": {},
     "output_type": "display_data"
    },
    {
     "data": {
      "text/plain": "Downloading (…)lve/main/config.json:   0%|          | 0.00/2.06k [00:00<?, ?B/s]",
      "application/vnd.jupyter.widget-view+json": {
       "version_major": 2,
       "version_minor": 0,
       "model_id": "853875ce2acf4a4394c2ed4e982b9cff"
      }
     },
     "metadata": {},
     "output_type": "display_data"
    },
    {
     "data": {
      "text/plain": "Downloading pytorch_model.bin:   0%|          | 0.00/585M [00:00<?, ?B/s]",
      "application/vnd.jupyter.widget-view+json": {
       "version_major": 2,
       "version_minor": 0,
       "model_id": "e2466e6e728146adb4c46e4489020751"
      }
     },
     "metadata": {},
     "output_type": "display_data"
    },
    {
     "data": {
      "text/plain": "Downloading (…)lve/main/config.json:   0%|          | 0.00/636 [00:00<?, ?B/s]",
      "application/vnd.jupyter.widget-view+json": {
       "version_major": 2,
       "version_minor": 0,
       "model_id": "bd994438a4a44027ac2ce32f4d92e4a3"
      }
     },
     "metadata": {},
     "output_type": "display_data"
    },
    {
     "data": {
      "text/plain": "Downloading pytorch_model.bin:   0%|          | 0.00/50.7M [00:00<?, ?B/s]",
      "application/vnd.jupyter.widget-view+json": {
       "version_major": 2,
       "version_minor": 0,
       "model_id": "77053113ab9a4c7f8c18337ab8950077"
      }
     },
     "metadata": {},
     "output_type": "display_data"
    },
    {
     "data": {
      "text/plain": "Downloading builder script:   0%|          | 0.00/1.36k [00:00<?, ?B/s]",
      "application/vnd.jupyter.widget-view+json": {
       "version_major": 2,
       "version_minor": 0,
       "model_id": "c3becb6217044b9e8876eed386973e43"
      }
     },
     "metadata": {},
     "output_type": "display_data"
    },
    {
     "data": {
      "text/plain": "Downloading readme:   0%|          | 0.00/1.01k [00:00<?, ?B/s]",
      "application/vnd.jupyter.widget-view+json": {
       "version_major": 2,
       "version_minor": 0,
       "model_id": "0f6211089a4b42bfbd60b4ca5213ad87"
      }
     },
     "metadata": {},
     "output_type": "display_data"
    },
    {
     "name": "stdout",
     "output_type": "stream",
     "text": [
      "Downloading and preparing dataset cmu-arctic-xvectors/default to /Users/joba/.cache/huggingface/datasets/Matthijs___cmu-arctic-xvectors/default/0.0.1/a62fea1f9415e240301ea0042ffad2a3aadf4d1caa7f9a8d9512d631723e781f...\n"
     ]
    },
    {
     "data": {
      "text/plain": "Downloading data:   0%|          | 0.00/17.9M [00:00<?, ?B/s]",
      "application/vnd.jupyter.widget-view+json": {
       "version_major": 2,
       "version_minor": 0,
       "model_id": "9058cb508c0b46b2a37e072d608c1310"
      }
     },
     "metadata": {},
     "output_type": "display_data"
    },
    {
     "data": {
      "text/plain": "Generating validation split: 0 examples [00:00, ? examples/s]",
      "application/vnd.jupyter.widget-view+json": {
       "version_major": 2,
       "version_minor": 0,
       "model_id": "5e37fefd56b04958b7a4174bbdc2b1cc"
      }
     },
     "metadata": {},
     "output_type": "display_data"
    },
    {
     "name": "stdout",
     "output_type": "stream",
     "text": [
      "Dataset cmu-arctic-xvectors downloaded and prepared to /Users/joba/.cache/huggingface/datasets/Matthijs___cmu-arctic-xvectors/default/0.0.1/a62fea1f9415e240301ea0042ffad2a3aadf4d1caa7f9a8d9512d631723e781f. Subsequent calls will reuse this data.\n"
     ]
    }
   ],
   "source": [
    "from transformers import SpeechT5Processor, SpeechT5ForTextToSpeech, SpeechT5HifiGan\n",
    "from datasets import load_dataset\n",
    "import torch\n",
    "import soundfile as sf\n",
    "from datasets import load_dataset\n",
    "\n",
    "processor = SpeechT5Processor.from_pretrained(\"microsoft/speecht5_tts\")\n",
    "model = SpeechT5ForTextToSpeech.from_pretrained(\"microsoft/speecht5_tts\")\n",
    "vocoder = SpeechT5HifiGan.from_pretrained(\"microsoft/speecht5_hifigan\")\n",
    "\n",
    "inputs = processor(text=\"Hello, my dog is cute\", return_tensors=\"pt\")\n",
    "\n",
    "# load xvector containing speaker's voice characteristics from a dataset\n",
    "embeddings_dataset = load_dataset(\"Matthijs/cmu-arctic-xvectors\", split=\"validation\")\n",
    "speaker_embeddings = torch.tensor(embeddings_dataset[7306][\"xvector\"]).unsqueeze(0)\n",
    "\n",
    "speech = model.generate_speech(inputs[\"input_ids\"], speaker_embeddings, vocoder=vocoder)\n",
    "\n",
    "sf.write(\"speech.wav\", speech.numpy(), samplerate=16000)\n"
   ],
   "metadata": {
    "collapsed": false,
    "ExecuteTime": {
     "end_time": "2023-05-19T12:39:21.946230Z",
     "start_time": "2023-05-19T12:38:46.002838Z"
    }
   }
  },
  {
   "cell_type": "code",
   "execution_count": null,
   "outputs": [],
   "source": [],
   "metadata": {
    "collapsed": false
   }
  }
 ],
 "metadata": {
  "kernelspec": {
   "display_name": "Python 3",
   "language": "python",
   "name": "python3"
  },
  "language_info": {
   "codemirror_mode": {
    "name": "ipython",
    "version": 2
   },
   "file_extension": ".py",
   "mimetype": "text/x-python",
   "name": "python",
   "nbconvert_exporter": "python",
   "pygments_lexer": "ipython2",
   "version": "2.7.6"
  }
 },
 "nbformat": 4,
 "nbformat_minor": 0
}
