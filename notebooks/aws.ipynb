{
 "cells": [
  {
   "cell_type": "markdown",
   "source": [
    "# Text-2-Speech using Amazon Polly"
   ],
   "metadata": {
    "collapsed": false
   }
  },
  {
   "cell_type": "markdown",
   "source": [
    "# Prerequisites\n",
    "* [AWS Account](https://aws.amazon.com/de/)\n",
    "* [AWS CLI installed and configured](https://aws.amazon.com/de/cli/)"
   ],
   "metadata": {
    "collapsed": false
   }
  },
  {
   "cell_type": "markdown",
   "source": [
    "# Install Boto3\n",
    "* Boto3: https://github.com/boto/boto3"
   ],
   "metadata": {
    "collapsed": false
   }
  },
  {
   "cell_type": "code",
   "execution_count": 1,
   "outputs": [
    {
     "name": "stdout",
     "output_type": "stream",
     "text": [
      "Collecting boto3\r\n",
      "  Downloading boto3-1.26.136-py3-none-any.whl (135 kB)\r\n",
      "\u001B[2K     \u001B[90m━━━━━━━━━━━━━━━━━━━━━━━━━━━━━━━━━━━━━━━\u001B[0m \u001B[32m135.6/135.6 kB\u001B[0m \u001B[31m2.5 MB/s\u001B[0m eta \u001B[36m0:00:00\u001B[0ma \u001B[36m0:00:01\u001B[0m\r\n",
      "\u001B[?25hCollecting jmespath<2.0.0,>=0.7.1\r\n",
      "  Using cached jmespath-1.0.1-py3-none-any.whl (20 kB)\r\n",
      "Collecting s3transfer<0.7.0,>=0.6.0\r\n",
      "  Using cached s3transfer-0.6.1-py3-none-any.whl (79 kB)\r\n",
      "Collecting botocore<1.30.0,>=1.29.136\r\n",
      "  Downloading botocore-1.29.136-py3-none-any.whl (10.7 MB)\r\n",
      "\u001B[2K     \u001B[90m━━━━━━━━━━━━━━━━━━━━━━━━━━━━━━━━━━━━━━━━\u001B[0m \u001B[32m10.7/10.7 MB\u001B[0m \u001B[31m28.4 MB/s\u001B[0m eta \u001B[36m0:00:00\u001B[0ma \u001B[36m0:00:01\u001B[0m\r\n",
      "\u001B[?25hCollecting urllib3<1.27,>=1.25.4\r\n",
      "  Using cached urllib3-1.26.15-py2.py3-none-any.whl (140 kB)\r\n",
      "Requirement already satisfied: python-dateutil<3.0.0,>=2.1 in /Users/joba/Documents/GitHub/text-to-speech/venv/lib/python3.10/site-packages (from botocore<1.30.0,>=1.29.136->boto3) (2.8.2)\r\n",
      "Requirement already satisfied: six>=1.5 in /Users/joba/Documents/GitHub/text-to-speech/venv/lib/python3.10/site-packages (from python-dateutil<3.0.0,>=2.1->botocore<1.30.0,>=1.29.136->boto3) (1.16.0)\r\n",
      "Installing collected packages: urllib3, jmespath, botocore, s3transfer, boto3\r\n",
      "  Attempting uninstall: urllib3\r\n",
      "    Found existing installation: urllib3 2.0.2\r\n",
      "    Uninstalling urllib3-2.0.2:\r\n",
      "      Successfully uninstalled urllib3-2.0.2\r\n",
      "Successfully installed boto3-1.26.136 botocore-1.29.136 jmespath-1.0.1 s3transfer-0.6.1 urllib3-1.26.15\r\n",
      "\r\n",
      "\u001B[1m[\u001B[0m\u001B[34;49mnotice\u001B[0m\u001B[1;39;49m]\u001B[0m\u001B[39;49m A new release of pip available: \u001B[0m\u001B[31;49m22.3.1\u001B[0m\u001B[39;49m -> \u001B[0m\u001B[32;49m23.1.2\u001B[0m\r\n",
      "\u001B[1m[\u001B[0m\u001B[34;49mnotice\u001B[0m\u001B[1;39;49m]\u001B[0m\u001B[39;49m To update, run: \u001B[0m\u001B[32;49mpip install --upgrade pip\u001B[0m\r\n"
     ]
    }
   ],
   "source": [
    "!pip install boto3\n"
   ],
   "metadata": {
    "collapsed": false,
    "ExecuteTime": {
     "end_time": "2023-05-19T12:43:33.456089Z",
     "start_time": "2023-05-19T12:43:30.244599Z"
    }
   }
  },
  {
   "cell_type": "markdown",
   "source": [
    "# Imports\n"
   ],
   "metadata": {
    "collapsed": false
   }
  },
  {
   "cell_type": "code",
   "execution_count": 2,
   "outputs": [],
   "source": [
    "import boto3\n",
    "from contextlib import closing"
   ],
   "metadata": {
    "collapsed": false,
    "ExecuteTime": {
     "end_time": "2023-05-19T12:44:09.058767Z",
     "start_time": "2023-05-19T12:44:08.990366Z"
    }
   }
  },
  {
   "cell_type": "markdown",
   "source": [
    "# Synthesize Speech\n",
    "Difference between standard and neural voices: https://docs.aws.amazon.com/polly/latest/dg/NTTS-main.html\n",
    "tl;dr: \"NTTS is ground-breaking improvements in speech quality through a new machine learning approach\""
   ],
   "metadata": {
    "collapsed": false
   }
  },
  {
   "cell_type": "code",
   "execution_count": 10,
   "outputs": [
    {
     "name": "stdout",
     "output_type": "stream",
     "text": [
      "Speech synthesis completed!\n"
     ]
    }
   ],
   "source": [
    "# The text to synthesize\n",
    "text = \"Das ist mein persönlicher Text.\"\n",
    "\n",
    "# Create an Amazon Polly client\n",
    "polly = boto3.client('polly')\n",
    "\n",
    "# Request speech synthesis\n",
    "response = polly.synthesize_speech(Text=text,\n",
    "                                   OutputFormat='mp3',\n",
    "                                   VoiceId='Daniel', # Hans (standard), Marlene (standard), Vicki (neural), Daniel (neural)\n",
    "                                   LanguageCode='de-DE',\n",
    "                                   Engine='neural')\n",
    "\n",
    "# Save the speech audio into a file\n",
    "if 'AudioStream' in response:\n",
    "    with closing(response['AudioStream']) as stream:\n",
    "        output = \"example.mp3\"\n",
    "\n",
    "        try:\n",
    "            # Open a file for writing the output as a binary stream\n",
    "            with open(output, 'wb') as file:\n",
    "                file.write(stream.read())\n",
    "        except IOError as ioe:\n",
    "            # If there's an I/O error, show it and exit\n",
    "            print(f\"I/O error: {ioe}\")\n",
    "\n",
    "print(\"Speech synthesis completed!\")\n"
   ],
   "metadata": {
    "collapsed": false,
    "ExecuteTime": {
     "end_time": "2023-05-19T13:05:20.232248Z",
     "start_time": "2023-05-19T13:05:19.998189Z"
    }
   }
  }
 ],
 "metadata": {
  "kernelspec": {
   "display_name": "Python 3",
   "language": "python",
   "name": "python3"
  },
  "language_info": {
   "codemirror_mode": {
    "name": "ipython",
    "version": 2
   },
   "file_extension": ".py",
   "mimetype": "text/x-python",
   "name": "python",
   "nbconvert_exporter": "python",
   "pygments_lexer": "ipython2",
   "version": "2.7.6"
  }
 },
 "nbformat": 4,
 "nbformat_minor": 0
}
